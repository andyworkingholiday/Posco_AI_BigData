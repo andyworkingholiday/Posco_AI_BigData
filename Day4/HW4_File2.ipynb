{
 "cells": [
  {
   "cell_type": "markdown",
   "metadata": {},
   "source": [
    "### 파일"
   ]
  },
  {
   "cell_type": "markdown",
   "metadata": {},
   "source": [
    "#### Q2"
   ]
  },
  {
   "cell_type": "code",
   "execution_count": 28,
   "metadata": {},
   "outputs": [
    {
     "name": "stdout",
     "output_type": "stream",
     "text": [
      "Enter a file name : \n",
      "There is no file you want to read!\n"
     ]
    }
   ],
   "source": [
    "filename = input(\"Enter a file name : \")\n",
    "\n",
    "try:\n",
    "    f = open(filename, 'r')\n",
    "except FileNotFoundError:\n",
    "    print(\"There is no file you want to read!\")\n",
    "else:\n",
    "    for read_line in f:\n",
    "        print(read_line.upper(), end='')\n",
    "\n",
    "f.close()"
   ]
  },
  {
   "cell_type": "markdown",
   "metadata": {},
   "source": [
    "#### Q3"
   ]
  },
  {
   "cell_type": "code",
   "execution_count": null,
   "metadata": {},
   "outputs": [],
   "source": [
    "import sys\n",
    "import os\n",
    "\n",
    "args = sys.argv[1:]\n",
    "input_name = args[0] \n",
    "output_name = args[1]\n",
    "\n",
    "rf = open(input_name, 'r')\n",
    "wf = open(output_name, 'w')\n",
    "\n",
    "for read_line in rf:\n",
    "    wf.write(read_line)\n",
    "    \n",
    "rf.close()\n",
    "wf.close()"
   ]
  },
  {
   "cell_type": "code",
   "execution_count": 31,
   "metadata": {},
   "outputs": [],
   "source": [
    "from IPython.display import Image"
   ]
  },
  {
   "cell_type": "markdown",
   "metadata": {},
   "source": [
    "![title](sc.png)"
   ]
  }
 ],
 "metadata": {
  "kernelspec": {
   "display_name": "Python 3",
   "language": "python",
   "name": "python3"
  },
  "language_info": {
   "codemirror_mode": {
    "name": "ipython",
    "version": 3
   },
   "file_extension": ".py",
   "mimetype": "text/x-python",
   "name": "python",
   "nbconvert_exporter": "python",
   "pygments_lexer": "ipython3",
   "version": "3.8.3"
  }
 },
 "nbformat": 4,
 "nbformat_minor": 4
}
