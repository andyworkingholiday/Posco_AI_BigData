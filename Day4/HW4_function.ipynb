{
 "cells": [
  {
   "cell_type": "markdown",
   "metadata": {},
   "source": [
    "### 과제 1"
   ]
  },
  {
   "cell_type": "code",
   "execution_count": 10,
   "metadata": {},
   "outputs": [
    {
     "name": "stdout",
     "output_type": "stream",
     "text": [
      "13는 소수입니다.\n",
      "15는 소수가 아닙니다.\n"
     ]
    }
   ],
   "source": [
    "def check_prime(num):\n",
    "    if num == 1:\n",
    "        return False\n",
    "    \n",
    "    for f in range(2, num):\n",
    "        if num % f == 0:\n",
    "            return False\n",
    "    \n",
    "    return True\n",
    "        \n",
    "def main():\n",
    "    a = 13\n",
    "    b = 15\n",
    "    \n",
    "    if check_prime(a):\n",
    "        print(str(a) + '는 소수입니다.')\n",
    "    else:\n",
    "        print(str(a) + '는 소수가 아닙니다.')\n",
    "        \n",
    "    if check_prime(b):\n",
    "        print(str(b) + '는 소수입니다.')\n",
    "    else:\n",
    "        print(str(b) + '는 소수가 아닙니다.')    \n",
    "        \n",
    "main()"
   ]
  },
  {
   "cell_type": "markdown",
   "metadata": {},
   "source": [
    "### 과제2"
   ]
  },
  {
   "cell_type": "code",
   "execution_count": 30,
   "metadata": {},
   "outputs": [
    {
     "name": "stdout",
     "output_type": "stream",
     "text": [
      "1,234\n",
      "12,345,678\n",
      "12\n"
     ]
    }
   ],
   "source": [
    "def add_comma(val):\n",
    "    str_val = str(val)\n",
    "    answer = ''\n",
    "    divind = len(str_val) % 3\n",
    "\n",
    "    idx = 0\n",
    "    while idx < len(str_val):\n",
    "        answer += str_val[idx]\n",
    "        idx += 1\n",
    "        if idx % 3 == divind:\n",
    "            answer += ','\n",
    "            \n",
    "    return answer[:len(answer) - 1]\n",
    "    \n",
    "def main():\n",
    "    comma_added_1234 = add_comma(1234)\n",
    "    comma_added_12345678 = add_comma(12345678)\n",
    "    comma_added_12 = add_comma(12)\n",
    "    \n",
    "    print(comma_added_1234)\n",
    "    print(comma_added_12345678)\n",
    "    print(comma_added_12)\n",
    "    \n",
    "main()    "
   ]
  },
  {
   "cell_type": "markdown",
   "metadata": {},
   "source": [
    "### 과제3"
   ]
  },
  {
   "cell_type": "code",
   "execution_count": 60,
   "metadata": {},
   "outputs": [
    {
     "name": "stdout",
     "output_type": "stream",
     "text": [
      "['There', 'was', 'a', 'farmer', 'who', 'had', 'a', 'dog', '.']\n",
      "['There was', 'was a', 'a farmer', 'farmer who', 'who had', 'had a', 'a dog', 'dog .']\n"
     ]
    }
   ],
   "source": [
    "def tokenize(trg, N = 1):\n",
    "    words = trg.split()\n",
    "    if N == 1:\n",
    "        return words\n",
    "    else:\n",
    "        temp = []\n",
    "        for i in range(len(words) - N + 1):\n",
    "            answer = ''\n",
    "            for idx in range(N):\n",
    "                answer += words[i + idx]\n",
    "                answer += ' '\n",
    "    \n",
    "            temp.append(answer[0:len(answer) - 1])\n",
    "        return temp\n",
    "    \n",
    "def main():\n",
    "    a = \"There was a farmer who had a dog .\"\n",
    "    print(tokenize(a))\n",
    "    print(tokenize(a, 2))\n",
    "    \n",
    "main()"
   ]
  },
  {
   "cell_type": "markdown",
   "metadata": {},
   "source": [
    "### 과제4"
   ]
  },
  {
   "cell_type": "code",
   "execution_count": 58,
   "metadata": {},
   "outputs": [
    {
     "name": "stdout",
     "output_type": "stream",
     "text": [
      "평균:  [0.5, 0.5]\n",
      "분산:  [0.16666666666666666, 0.16666666666666666]\n"
     ]
    }
   ],
   "source": [
    "def mean_and_var(*val):\n",
    "    avg1 = 0\n",
    "    avg2 = 0\n",
    "    \n",
    "    for v in val:\n",
    "        avg1 += v[0]\n",
    "        avg2 += v[1]\n",
    "    \n",
    "    ans1 = []\n",
    "    ans2 = []\n",
    "    \n",
    "    avg1 /= len(val)\n",
    "    avg2 /= len(val)\n",
    "    \n",
    "    ans1.append(avg1)\n",
    "    ans1.append(avg2)\n",
    "    \n",
    "    bun1 = 0\n",
    "    bun2 = 0\n",
    "    for v in val:\n",
    "        bun1 += (v[0] - avg1) ** 2\n",
    "        bun2 += (v[1] - avg2) ** 2\n",
    "    \n",
    "    bun1 /= len(val)\n",
    "    bun2 /= len(val)\n",
    "    \n",
    "    ans2.append(bun1)\n",
    "    ans2.append(bun2)\n",
    "    \n",
    "    return ans1, ans2\n",
    "    \n",
    "def main():\n",
    "    v1 = (0, 1)\n",
    "    v2 = (0.5, 0.5)\n",
    "    v3 = (1, 0)\n",
    "    \n",
    "    m, var = mean_and_var(v1, v2, v3)\n",
    "    \n",
    "    print('평균: ', m)\n",
    "    print('분산: ', var)\n",
    "    \n",
    "main()"
   ]
  },
  {
   "cell_type": "code",
   "execution_count": null,
   "metadata": {},
   "outputs": [],
   "source": []
  }
 ],
 "metadata": {
  "kernelspec": {
   "display_name": "Python 3",
   "language": "python",
   "name": "python3"
  },
  "language_info": {
   "codemirror_mode": {
    "name": "ipython",
    "version": 3
   },
   "file_extension": ".py",
   "mimetype": "text/x-python",
   "name": "python",
   "nbconvert_exporter": "python",
   "pygments_lexer": "ipython3",
   "version": "3.8.3"
  }
 },
 "nbformat": 4,
 "nbformat_minor": 4
}
