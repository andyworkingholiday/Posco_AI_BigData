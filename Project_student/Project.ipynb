{
 "cells": [
  {
   "cell_type": "code",
   "execution_count": 65,
   "metadata": {},
   "outputs": [
    {
     "name": "stdout",
     "output_type": "stream",
     "text": [
      "Stduent \t Name \t Midterm \t Final \t Average \t Grade\n",
      "----------------------------------------------\n",
      "20180002\tLee Jieun\t92\t89\t90.5\tA\n",
      "20180009\tLee Yeounghee\t81\t84\t82.5\tB\n",
      "20180001\tHong Gildong\t84\t73\t78.5\tC\n",
      "20180011\tHa Donghun\t58\t68\t63.0\tD\n",
      "20180007\tKim Cheolsu\t57\t62\t59.5\tF\n"
     ]
    }
   ],
   "source": [
    "import sys\n",
    "\n",
    "def print_item():\n",
    "    print(\"Stduent\",\"\\t\",\"Name\",\"\\t\",\"Midterm\",\"\\t\",\"Final\",\"\\t\",\"Average\",\"\\t\",\"Grade\")\n",
    "    print(\"-\" * 46) \n",
    "\n",
    "def print_students(dic):\n",
    "    for key in dic:\n",
    "        print(key, end = \"\\t\")\n",
    "        for val in range(len(dic[key])):\n",
    "            if val != len(dic[key]) - 1:\n",
    "                print(dic[key][val], end = \"\\t\")\n",
    "            else:\n",
    "                print(dic[key][val])\n",
    "        \n",
    "def get_grade(avg):\n",
    "    if avg >= 90:\n",
    "        grade = 'A'\n",
    "    elif avg >= 80 and avg < 90:\n",
    "        grade = 'B'\n",
    "    elif avg >= 70 and avg < 80:\n",
    "        grade = 'C'\n",
    "    elif avg >= 60 and avg < 70:\n",
    "        grade = 'D'\n",
    "    else:\n",
    "        grade = 'F'\n",
    "        \n",
    "    return grade\n",
    "\n",
    "def sort_by_avg(dic):\n",
    "    return dict(sorted(dic.items(), key = lambda k: k[1][3], reverse = True))\n",
    "\n",
    "\n",
    "file = open(\"students.txt\", 'r')\n",
    "info_student = {}\n",
    "\n",
    "\n",
    "## 동명이인이 있을 수 있으므로 학번 기준으로 dictionary의  key 값을 설정한다.\n",
    "for line in file:\n",
    "    tmp_array = line.strip().split(\"\\t\")\n",
    "    tmp_array[2] = int(tmp_array[2])\n",
    "    tmp_array[3] = int(tmp_array[3])\n",
    "    average = (tmp_array[2] + tmp_array[3]) / 2\n",
    "    grade = get_grade(average)\n",
    "    info_student[tmp_array[0]] = tmp_array[1:]\n",
    "    info_student[tmp_array[0]].append(average)\n",
    "    info_student[tmp_array[0]].append(grade)\n",
    "\n",
    "sorted_by_avg = sort_by_avg(info_student)\n",
    "\n",
    "print_item()\n",
    "print_students(sorted_by_avg)"
   ]
  },
  {
   "cell_type": "code",
   "execution_count": 6,
   "metadata": {},
   "outputs": [
    {
     "name": "stdout",
     "output_type": "stream",
     "text": [
      "<class 'dict'>\n"
     ]
    }
   ],
   "source": [
    "print(type(info_student))"
   ]
  },
  {
   "cell_type": "code",
   "execution_count": null,
   "metadata": {},
   "outputs": [],
   "source": []
  }
 ],
 "metadata": {
  "kernelspec": {
   "display_name": "Python 3",
   "language": "python",
   "name": "python3"
  },
  "language_info": {
   "codemirror_mode": {
    "name": "ipython",
    "version": 3
   },
   "file_extension": ".py",
   "mimetype": "text/x-python",
   "name": "python",
   "nbconvert_exporter": "python",
   "pygments_lexer": "ipython3",
   "version": "3.8.3"
  }
 },
 "nbformat": 4,
 "nbformat_minor": 4
}
