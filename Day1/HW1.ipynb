{
 "cells": [
  {
   "cell_type": "markdown",
   "metadata": {},
   "source": [
    "## 실습문제1"
   ]
  },
  {
   "cell_type": "markdown",
   "metadata": {},
   "source": [
    "#### Q1. 화씨온도(℉)를 입력 받아서 섭씨온도(℃)로 바꾸는 프로그램을 작성하시오."
   ]
  },
  {
   "cell_type": "code",
   "execution_count": 1,
   "metadata": {},
   "outputs": [
    {
     "name": "stdout",
     "output_type": "stream",
     "text": [
      "화씨온도 : 100\n",
      "섭씨온도 : 37.777778\n"
     ]
    }
   ],
   "source": [
    "farenheit = float(input(\"화씨온도 : \"))\n",
    "Celcius = 5/9 * (farenheit - 32)\n",
    "print(\"섭씨온도 : %f\" %Celcius)"
   ]
  },
  {
   "cell_type": "markdown",
   "metadata": {},
   "source": [
    "#### Q2. 사용자로부터 투입한 돈과 물건 값을 입력 받아, 잔돈을계산하여 출력한다. 단, 동전의 개수는 최소화 할 것"
   ]
  },
  {
   "cell_type": "code",
   "execution_count": 2,
   "metadata": {},
   "outputs": [
    {
     "name": "stdout",
     "output_type": "stream",
     "text": [
      "투입한 돈 : 5000\n",
      "물건 값 : 2700\n",
      "거스름돈 : 2300\n",
      "500원 짜리 : 4\n",
      "100원 짜리 : 3\n"
     ]
    }
   ],
   "source": [
    "money = int(input(\"투입한 돈 : \"))\n",
    "price = int(input(\"물건 값 : \"))\n",
    "left_money = money - price\n",
    "print(\"거스름돈 : %d\" %left_money)\n",
    "print(\"500원 짜리 : %d\" %(left_money/500))\n",
    "print(\"100원 짜리 : %d\" %((left_money%500)/100))"
   ]
  },
  {
   "cell_type": "markdown",
   "metadata": {},
   "source": [
    "#### Q3. 원의 반지름을 r을 입력 받아, 원의 둘레와 넓이를 구하는 프로그램을 작성하시오"
   ]
  },
  {
   "cell_type": "code",
   "execution_count": 3,
   "metadata": {},
   "outputs": [
    {
     "name": "stdout",
     "output_type": "stream",
     "text": [
      "반지름을 입력하시오 : 5\n",
      "원 둘레 : 31.415920\n",
      "원 넓이 : 78.539800\n"
     ]
    }
   ],
   "source": [
    "pi = 3.141592\n",
    "\n",
    "R = float(input(\"반지름을 입력하시오 : \"))\n",
    "print(\"원 둘레 : %f\" %(2 * pi * R))\n",
    "print(\"원 넓이 : %f\" %(pi * R * R))"
   ]
  }
 ],
 "metadata": {
  "kernelspec": {
   "display_name": "Python 3",
   "language": "python",
   "name": "python3"
  },
  "language_info": {
   "codemirror_mode": {
    "name": "ipython",
    "version": 3
   },
   "file_extension": ".py",
   "mimetype": "text/x-python",
   "name": "python",
   "nbconvert_exporter": "python",
   "pygments_lexer": "ipython3",
   "version": "3.8.3"
  }
 },
 "nbformat": 4,
 "nbformat_minor": 4
}
