{
 "cells": [
  {
   "cell_type": "markdown",
   "metadata": {},
   "source": [
    "# 통계 데이터 분석 HW2"
   ]
  },
  {
   "cell_type": "code",
   "execution_count": 14,
   "metadata": {},
   "outputs": [],
   "source": [
    "import numpy as np\n",
    "from scipy import stats\n",
    "from scipy.stats import shapiro\n",
    "import scipy.stats\n",
    "\n",
    "import pandas as pd\n",
    "import statsmodels.api as sm\n",
    "import matplotlib\n",
    "import matplotlib.pyplot as plt\n",
    "\n",
    "import seaborn as sns\n",
    "from statsmodels.stats.proportion import proportions_ztest\n",
    "\n",
    "%matplotlib inline\n",
    "\n",
    "matplotlib.rc('font', family = 'Malgun Gothic')\n",
    "plt.rc('font', family = 'Malgun Gothic')"
   ]
  },
  {
   "cell_type": "markdown",
   "metadata": {},
   "source": [
    "### 와이블 분포 : 어떤 제품의 수명시간 x가 형상모수 5.2, 척도모수 2,200인 와이블 분포를 따른다고 한다. 이 제품이 적어도 2,50 시간 이상 작동할 확률은?"
   ]
  },
  {
   "cell_type": "code",
   "execution_count": 15,
   "metadata": {},
   "outputs": [
    {
     "name": "stdout",
     "output_type": "stream",
     "text": [
      "P(X<=x):0.143\n"
     ]
    }
   ],
   "source": [
    "x = 2500\n",
    "alpha = 5.2\n",
    "beta = 2200\n",
    "\n",
    "prob = stats.weibull_min.cdf(x, alpha, scale = beta)\n",
    "print(\"P(X<=x):{:.3f}\".format(1 - prob))"
   ]
  },
  {
   "cell_type": "markdown",
   "metadata": {},
   "source": [
    "### 이항 분포 : 도장 공정에서 광택도 불량이 30%나 된다고 한다. 5대의 차량을 임의로 선택했을 때 불량대수가 각각 0, 1, 2, 3, 4, 5 대가 나올 확률은?"
   ]
  },
  {
   "cell_type": "code",
   "execution_count": 16,
   "metadata": {},
   "outputs": [
    {
     "name": "stdout",
     "output_type": "stream",
     "text": [
      "P(X=0) = 0.168\n",
      "P(X=1) = 0.360\n",
      "P(X=2) = 0.309\n",
      "P(X=3) = 0.132\n",
      "P(X=4) = 0.028\n",
      "P(X=5) = 0.002\n"
     ]
    }
   ],
   "source": [
    "N = 5\n",
    "for i in range(N + 1):\n",
    "    prob = stats.binom.pmf(k = i, n = N, p = 0.3)\n",
    "    print(\"P(X={0}) = {1:.3f}\".format(i, prob))"
   ]
  },
  {
   "cell_type": "markdown",
   "metadata": {},
   "source": [
    "### 포아송 분포 : 한 상점에서는 평균 1시간에 3명 씩 포아송분포로 손님이 도착한다. 이 때 10시에서 11시 사이에 다음이 발생활 확률을 구하시오\n",
    "\n",
    "* 2명의 손님이 도착\n",
    "* 1명 이하의 손님이 도착\n",
    "* 3명 이상의 손님이 도착"
   ]
  },
  {
   "cell_type": "code",
   "execution_count": 17,
   "metadata": {},
   "outputs": [
    {
     "name": "stdout",
     "output_type": "stream",
     "text": [
      "2 명의 손님이 도착할 확률 : 22.40%\n",
      "1 명 이하의 손님이 도착할 확률 : 19.91%\n",
      "1 명 이상의 손님이 도착할 확률 : 35.28%\n"
     ]
    }
   ],
   "source": [
    "mu = 3\n",
    "two_prob = stats.poisson.pmf(2, mu)\n",
    "one_lower_prob = stats.poisson.cdf(1, mu)\n",
    "three_upper_prob = 1 - stats.poisson.cdf(3, mu)\n",
    "\n",
    "print(\"{0} 명의 손님이 도착할 확률 : {1:.2f}%\".format(2, two_prob * 100))\n",
    "print(\"{0} 명 이하의 손님이 도착할 확률 : {1:.2f}%\".format(1, one_lower_prob * 100))\n",
    "print(\"{0} 명 이상의 손님이 도착할 확률 : {1:.2f}%\".format(1, three_upper_prob * 100))"
   ]
  },
  {
   "cell_type": "markdown",
   "metadata": {},
   "source": [
    "### 정규성 검정"
   ]
  },
  {
   "cell_type": "code",
   "execution_count": 31,
   "metadata": {},
   "outputs": [
    {
     "data": {
      "text/html": [
       "<div>\n",
       "<style scoped>\n",
       "    .dataframe tbody tr th:only-of-type {\n",
       "        vertical-align: middle;\n",
       "    }\n",
       "\n",
       "    .dataframe tbody tr th {\n",
       "        vertical-align: top;\n",
       "    }\n",
       "\n",
       "    .dataframe thead th {\n",
       "        text-align: right;\n",
       "    }\n",
       "</style>\n",
       "<table border=\"1\" class=\"dataframe\">\n",
       "  <thead>\n",
       "    <tr style=\"text-align: right;\">\n",
       "      <th></th>\n",
       "      <th>Mat_A</th>\n",
       "      <th>Mat_B</th>\n",
       "      <th>Total</th>\n",
       "      <th>Sub</th>\n",
       "    </tr>\n",
       "  </thead>\n",
       "  <tbody>\n",
       "    <tr>\n",
       "      <th>0</th>\n",
       "      <td>73.4</td>\n",
       "      <td>68.7</td>\n",
       "      <td>73.4</td>\n",
       "      <td>1</td>\n",
       "    </tr>\n",
       "    <tr>\n",
       "      <th>1</th>\n",
       "      <td>77.0</td>\n",
       "      <td>71.4</td>\n",
       "      <td>77.0</td>\n",
       "      <td>1</td>\n",
       "    </tr>\n",
       "    <tr>\n",
       "      <th>2</th>\n",
       "      <td>73.7</td>\n",
       "      <td>69.8</td>\n",
       "      <td>73.7</td>\n",
       "      <td>1</td>\n",
       "    </tr>\n",
       "    <tr>\n",
       "      <th>3</th>\n",
       "      <td>73.3</td>\n",
       "      <td>75.3</td>\n",
       "      <td>73.3</td>\n",
       "      <td>1</td>\n",
       "    </tr>\n",
       "    <tr>\n",
       "      <th>4</th>\n",
       "      <td>73.1</td>\n",
       "      <td>71.3</td>\n",
       "      <td>73.1</td>\n",
       "      <td>1</td>\n",
       "    </tr>\n",
       "  </tbody>\n",
       "</table>\n",
       "</div>"
      ],
      "text/plain": [
       "   Mat_A  Mat_B  Total  Sub\n",
       "0   73.4   68.7   73.4    1\n",
       "1   77.0   71.4   77.0    1\n",
       "2   73.7   69.8   73.7    1\n",
       "3   73.3   75.3   73.3    1\n",
       "4   73.1   71.3   73.1    1"
      ]
     },
     "execution_count": 31,
     "metadata": {},
     "output_type": "execute_result"
    }
   ],
   "source": [
    "ds_2sam = pd.read_csv(\"Datas/2sample_t_test.csv\", engine = \"python\")\n",
    "ds_2sam.head()"
   ]
  },
  {
   "cell_type": "code",
   "execution_count": 32,
   "metadata": {},
   "outputs": [
    {
     "name": "stdout",
     "output_type": "stream",
     "text": [
      "ShapiroResult(statistic=0.9062636494636536, pvalue=0.2562994360923767)\n",
      "ShapiroResult(statistic=0.9729753732681274, pvalue=0.9169777035713196)\n"
     ]
    }
   ],
   "source": [
    "ds_2sam = ds_2sam.dropna()\n",
    "data1 = ds_2sam['Mat_A']\n",
    "data2 = ds_2sam['Mat_B']\n",
    "print(shapiro(data1))\n",
    "print(shapiro(data2))"
   ]
  },
  {
   "cell_type": "markdown",
   "metadata": {},
   "source": [
    "### 새로운 품종의 감자 20 Box 를 랜덤추출했다.(모표준편차 = 3.8) 이 자료로부터 신품종 배추의 평균 무게에 대한 95% 신뢰 구간을 구하시오."
   ]
  },
  {
   "cell_type": "code",
   "execution_count": 33,
   "metadata": {},
   "outputs": [
    {
     "name": "stdout",
     "output_type": "stream",
     "text": [
      "신뢰 구간 :([17.83], [21.17])\n"
     ]
    }
   ],
   "source": [
    "df = pd.DataFrame({\"sample\" : [18, 18, 20, 21, 20, 23, 19, 18, 17, 21, 22, 20, 20, 21, 20, 19, 19, 18, 17, 19]})\n",
    "df.head()\n",
    "lower, upper = stats.norm.interval(0.95, loc = np.mean(df), scale = 3.8 / np.sqrt(20))\n",
    "print(\"신뢰 구간 :({0}, {1})\".format(lower.round(2), upper.round(2)))"
   ]
  },
  {
   "cell_type": "markdown",
   "metadata": {},
   "source": [
    "### 모표준편차 모르는 경우 : 제품 개발자는 새로 개발된 강종의 평균 인장강도를 70kg/mm으로 기대하고 있음. 표본평균은 71.50Kg/mm, 표본표준편차는 1.933Kg/mm 이 모평균값의 95%신뢰구간을 추정하시오"
   ]
  },
  {
   "cell_type": "code",
   "execution_count": 46,
   "metadata": {},
   "outputs": [
    {
     "name": "stdout",
     "output_type": "stream",
     "text": [
      "신뢰 구간 :([70.6], [72.4])\n"
     ]
    }
   ],
   "source": [
    "df = pd.DataFrame({\"sample\" : [73, 71, 74, 69, 70, 73, 70, 68, 75, 72, 70, 72, 73, 70, 70, 72, 71, 70, 75, 72]})\n",
    "lower, upper = stats.t.interval(0.95, len(df) - 1, loc = np.mean(df), scale = scipy.stats.sem(df))\n",
    "print(\"신뢰 구간 :({0}, {1})\".format(lower.round(2), upper.round(2)))"
   ]
  },
  {
   "cell_type": "markdown",
   "metadata": {},
   "source": [
    "### 모분산 신뢰구간 추정"
   ]
  },
  {
   "cell_type": "code",
   "execution_count": 41,
   "metadata": {},
   "outputs": [
    {
     "name": "stdout",
     "output_type": "stream",
     "text": [
      "모분산의 95% 신뢰 구간 :(15.03, 33.16)\n"
     ]
    }
   ],
   "source": [
    "n = 50\n",
    "s = 4.68\n",
    "kai_1 = 71.42\n",
    "kai_2 = 32.36\n",
    "lower = (n - 1) * s**2 / kai_1\n",
    "upper = (n - 1) * s**2 / kai_2\n",
    "\n",
    "print(\"모분산의 95% 신뢰 구간 :({0:.2f}, {1:.2f})\".format(lower, upper))"
   ]
  },
  {
   "cell_type": "markdown",
   "metadata": {},
   "source": [
    "### 모비율 신뢰구간 추정 : 통화관리 성공율"
   ]
  },
  {
   "cell_type": "code",
   "execution_count": 39,
   "metadata": {},
   "outputs": [
    {
     "name": "stdout",
     "output_type": "stream",
     "text": [
      "통화 관리 성공율에 대한 95% 신뢰 구간 :(0.71, 0.93)\n"
     ]
    }
   ],
   "source": [
    "phat = 1 - 9 / 50\n",
    "n = 50\n",
    "Z = 1.96\n",
    "lower = phat - Z * np.sqrt(phat * (1 - phat) / n)\n",
    "upper = phat + Z * np.sqrt(phat * (1 - phat) / n)\n",
    "\n",
    "print(\"통화 관리 성공율에 대한 95% 신뢰 구간 :({0}, {1})\".format(lower.round(2), upper.round(2)))"
   ]
  },
  {
   "cell_type": "markdown",
   "metadata": {},
   "source": [
    "### 고객 만족도 데이터 분석을 통한 만족도의 변화"
   ]
  },
  {
   "cell_type": "code",
   "execution_count": 43,
   "metadata": {},
   "outputs": [
    {
     "name": "stdout",
     "output_type": "stream",
     "text": [
      "1-Sample t-test\n",
      "t 통계량 : [3.379]\n",
      "p-value : [0.008]\n"
     ]
    }
   ],
   "source": [
    "df = pd.DataFrame({'sample' : [85.0,79.0,79.1,79.9,81.6,78.6,85.4,83.4,78.1,79.2]})\n",
    "t_result = stats.ttest_1samp(df, 78.0)\n",
    "\n",
    "t, p = t_result.statistic.round(3), t_result.pvalue.round(3)\n",
    "\n",
    "print(\"1-Sample t-test\")\n",
    "print(\"t 통계량 : {}\".format(t))\n",
    "print(\"p-value : {}\".format(p))"
   ]
  },
  {
   "cell_type": "markdown",
   "metadata": {},
   "source": [
    "### 제품을 A공급자와 B공급자로 부터 받아 두께를 측정해서 다음의 데이터를 얻었다. 공급자 간의 모평균에 차이가 있을 수 있는가?"
   ]
  },
  {
   "cell_type": "code",
   "execution_count": 49,
   "metadata": {},
   "outputs": [
    {
     "name": "stdout",
     "output_type": "stream",
     "text": [
      "2-Sample test\n",
      "t:[1.7]\n",
      "p:[0.111]\n"
     ]
    }
   ],
   "source": [
    "df1 = pd.DataFrame({'sample': [1.883, 1.715, 1.799, 1.768, 1.711, 1.832, 1.427, 1.344]})\n",
    "df2 = pd.DataFrame({'sample': [1.435, 1.572, 1.486, 1.511, 1.457, 1.548, 1.404, 1.883]})\n",
    "\n",
    "result = stats.ttest_ind(df1, df2)\n",
    "t, p = result.statistic.round(3), result.pvalue.round(3)\n",
    "\n",
    "print(\"2-Sample test\")\n",
    "print(\"t:{}\".format(t))\n",
    "print(\"p:{}\".format(p))"
   ]
  },
  {
   "cell_type": "markdown",
   "metadata": {},
   "source": [
    "### 회사원의 영어 점수 차이 점검하기"
   ]
  },
  {
   "cell_type": "code",
   "execution_count": 52,
   "metadata": {},
   "outputs": [
    {
     "name": "stdout",
     "output_type": "stream",
     "text": [
      "Paired test\n",
      "t:[-2.266]\n",
      "p:[0.05]\n"
     ]
    }
   ],
   "source": [
    "df1 = pd.DataFrame({'sample': [720, 589, 780, 648, 720, 589, 780, 648, 780, 648]})\n",
    "df2 = pd.DataFrame({'sample': [710, 580, 787, 712, 750, 600, 782, 670, 790, 680]})\n",
    "result = stats.ttest_rel(df1, df2)\n",
    "t, p = result.statistic.round(3), result.pvalue.round(3)\n",
    "\n",
    "print(\"Paired test\")\n",
    "print(\"t:{}\".format(t))\n",
    "print(\"p:{}\".format(p))"
   ]
  },
  {
   "cell_type": "markdown",
   "metadata": {},
   "source": [
    "### 동전이 정상적인가를 검증해보자"
   ]
  },
  {
   "cell_type": "code",
   "execution_count": 57,
   "metadata": {},
   "outputs": [
    {
     "name": "stdout",
     "output_type": "stream",
     "text": [
      "Proportion test\n",
      "z:-2.041\n",
      "p:0.041\n"
     ]
    }
   ],
   "source": [
    "count1 = 40\n",
    "n_obs1 = 100\n",
    "value1 = 0.5\n",
    "stat, pval = proportions_ztest(count, n_obs, value)\n",
    "\n",
    "print(\"Proportion test\")\n",
    "print(\"z:{0:0.3f}\".format(stat))\n",
    "print(\"p:{0:0.3f}\".format(pval))"
   ]
  },
  {
   "cell_type": "markdown",
   "metadata": {},
   "source": [
    "### 두 공장에서의 불량률을 측정해보자"
   ]
  },
  {
   "cell_type": "code",
   "execution_count": 59,
   "metadata": {},
   "outputs": [
    {
     "name": "stdout",
     "output_type": "stream",
     "text": [
      "Proportion test\n",
      "z:2.073\n",
      "p:0.038\n"
     ]
    }
   ],
   "source": [
    "counts = np.array([14,5])\n",
    "nobs = np.array([1200, 1200])\n",
    "stat, pval = proportions_ztest(counts, nobs)\n",
    "\n",
    "print(\"Proportion test\")\n",
    "print(\"z:{0:0.3f}\".format(stat))\n",
    "print(\"p:{0:0.3f}\".format(pval))"
   ]
  }
 ],
 "metadata": {
  "kernelspec": {
   "display_name": "Python 3",
   "language": "python",
   "name": "python3"
  },
  "language_info": {
   "codemirror_mode": {
    "name": "ipython",
    "version": 3
   },
   "file_extension": ".py",
   "mimetype": "text/x-python",
   "name": "python",
   "nbconvert_exporter": "python",
   "pygments_lexer": "ipython3",
   "version": "3.8.3"
  }
 },
 "nbformat": 4,
 "nbformat_minor": 4
}
