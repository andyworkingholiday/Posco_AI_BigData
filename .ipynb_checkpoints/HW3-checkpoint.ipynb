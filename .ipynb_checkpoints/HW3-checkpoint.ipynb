{
 "cells": [
  {
   "cell_type": "markdown",
   "metadata": {},
   "source": [
    "## 실습문제3"
   ]
  },
  {
   "cell_type": "markdown",
   "metadata": {},
   "source": [
    "### Q11"
   ]
  },
  {
   "cell_type": "code",
   "execution_count": 3,
   "metadata": {},
   "outputs": [
    {
     "name": "stdout",
     "output_type": "stream",
     "text": [
      "Input an integer : 315\n",
      "★★★\n",
      "★\n",
      "★★★★★\n"
     ]
    }
   ],
   "source": [
    "number = input(\"Input an integer : \")\n",
    "\"\"\"for char in number:\n",
    "    num = int(char)\n",
    "    while num:\n",
    "        if num == 1:\n",
    "            print(\"★\")\n",
    "        else:\n",
    "            print(\"★\", end= '')\n",
    "        num -= 1\"\"\"\n",
    "\n",
    "for num in number:\n",
    "    print(\"★\" * int(num))"
   ]
  },
  {
   "cell_type": "markdown",
   "metadata": {},
   "source": [
    "### Q12"
   ]
  },
  {
   "cell_type": "code",
   "execution_count": 10,
   "metadata": {},
   "outputs": [
    {
     "name": "stdout",
     "output_type": "stream",
     "text": [
      "Enter a number : 7\n",
      "Enter a number : 2\n",
      "Enter a number : 9\n",
      "Enter a number : 3\n",
      "Enter a number : 5\n",
      "Enter a number : done\n",
      "[7.0, 2.0, 9.0, 3.0, 5.0]\n",
      "Average: 5.2\n",
      "Maximum: 9.0\n",
      "Minimum: 2.0\n"
     ]
    }
   ],
   "source": [
    "nums = []\n",
    "while(1):\n",
    "    num = input(\"Enter a number : \")\n",
    "    if num == \"done\":\n",
    "        break;\n",
    "    nums.append(float(num))\n",
    "    \n",
    "print(nums)\n",
    "print(\"Average: %.1f\" %(sum(nums)/len(nums)))\n",
    "print(\"Maximum: %.1f\" %max(nums))\n",
    "print(\"Minimum: %.1f\" %min(nums))"
   ]
  },
  {
   "cell_type": "markdown",
   "metadata": {},
   "source": [
    "### 딕셔너리"
   ]
  },
  {
   "cell_type": "markdown",
   "metadata": {},
   "source": [
    "#### Q1"
   ]
  },
  {
   "cell_type": "code",
   "execution_count": 23,
   "metadata": {},
   "outputs": [
    {
     "name": "stdout",
     "output_type": "stream",
     "text": [
      "1 2 10 "
     ]
    }
   ],
   "source": [
    "d = {'youn':1, 'park':2, 'kim':10}\n",
    "\n",
    "for item in d:\n",
    "    print(d[item], end = ' ')"
   ]
  },
  {
   "cell_type": "markdown",
   "metadata": {},
   "source": [
    "#### Q2"
   ]
  },
  {
   "cell_type": "code",
   "execution_count": 26,
   "metadata": {},
   "outputs": [
    {
     "name": "stdout",
     "output_type": "stream",
     "text": [
      "five 5\n",
      "four 4\n",
      "one 1\n",
      "three 3\n",
      "two 2\n"
     ]
    }
   ],
   "source": [
    "numbers = {'one' : 1, 'two' : 2, 'three' : 3, 'four' : 4, 'five' : 5}\n",
    "numbers = sorted(numbers.items())\n",
    "\n",
    "for item in numbers:\n",
    "    print(item[0], item[1])"
   ]
  },
  {
   "cell_type": "markdown",
   "metadata": {},
   "source": [
    "#### Q3"
   ]
  },
  {
   "cell_type": "code",
   "execution_count": 19,
   "metadata": {},
   "outputs": [
    {
     "name": "stdout",
     "output_type": "stream",
     "text": [
      "Enter a sentence : Python is fun!\n",
      "{'P': 1, 'y': 1, 't': 1, 'h': 1, 'o': 1, 'n': 2, ' ': 2, 'i': 1, 's': 1, 'f': 1, 'u': 1, '!': 1}\n"
     ]
    }
   ],
   "source": [
    "sentence = input(\"Enter a sentence : \")\n",
    "dicts = {}\n",
    "\n",
    "for char in sentence:\n",
    "    if char in dicts:\n",
    "        dicts[char] += 1\n",
    "    else:\n",
    "        dicts[char] = 1\n",
    "        \n",
    "print(dicts)"
   ]
  },
  {
   "cell_type": "markdown",
   "metadata": {},
   "source": [
    "### 파일 입출력"
   ]
  },
  {
   "cell_type": "markdown",
   "metadata": {},
   "source": [
    "#### Q1"
   ]
  },
  {
   "cell_type": "code",
   "execution_count": 38,
   "metadata": {},
   "outputs": [
    {
     "name": "stdout",
     "output_type": "stream",
     "text": [
      "first 1\n",
      "second 1\n",
      "third 1\n",
      "line 3\n"
     ]
    }
   ],
   "source": [
    "f = open(\"test.txt\", 'r')\n",
    "dic = {}\n",
    "for line in f:\n",
    "    for s in line.split(' '):\n",
    "        if s in dic:\n",
    "            dic[s] += 1\n",
    "        else:\n",
    "            dic[s] = 1\n",
    "\n",
    "dic['line'] = dic.pop('line\\n')            \n",
    "for item in dic:\n",
    "    print(item, dic[item])\n",
    "\n",
    "f.close()"
   ]
  },
  {
   "cell_type": "markdown",
   "metadata": {},
   "source": [
    "#### Q4"
   ]
  },
  {
   "cell_type": "code",
   "execution_count": 51,
   "metadata": {},
   "outputs": [
    {
     "name": "stdout",
     "output_type": "stream",
     "text": [
      "201901 89 78 82.4(B)\n",
      "201902 76 84 80.8(B)\n",
      "201903 67 42 52.0(F)\n",
      "201904 66 88 79.2(C)\n",
      "201905 98 99 98.6(A)\n"
     ]
    }
   ],
   "source": [
    "read_score = open(\"score.txt\", 'r')\n",
    "write_score = open(\"report.txt\", 'w')\n",
    "for read_line in read_score:\n",
    "    dummy = read_line[:len(read_line)-1]\n",
    "    mid = read_line[7:9]\n",
    "    final = read_line[10:]\n",
    "    total_score = int(mid) * 0.4 + int(final) * 0.6\n",
    "\n",
    "    if total_score >= 90:\n",
    "        grade = 'A'\n",
    "    elif total_score >= 80 and total_score < 90:\n",
    "        grade = 'B'\n",
    "    elif total_score >= 70 and total_score < 80:\n",
    "        grade = 'C'\n",
    "    elif total_score >= 60 and total_score < 70:\n",
    "        grade = 'D'\n",
    "    else:\n",
    "        grade = 'F'    \n",
    "    \n",
    "    write_line = dummy + \" \" + str(total_score)+ \"(\" + grade + \")\\n\"\n",
    "    write_score.write(write_line)\n",
    "    \n",
    "read_score.close()\n",
    "write_score.close()\n",
    "\n",
    "# 실제로 잘 출력되는 지 확인\n",
    "\n",
    "test_score = open(\"report.txt\", 'r')\n",
    "for line in test_score:\n",
    "    print(line, end = '')"
   ]
  },
  {
   "cell_type": "code",
   "execution_count": null,
   "metadata": {},
   "outputs": [],
   "source": []
  }
 ],
 "metadata": {
  "kernelspec": {
   "display_name": "Python 3",
   "language": "python",
   "name": "python3"
  },
  "language_info": {
   "codemirror_mode": {
    "name": "ipython",
    "version": 3
   },
   "file_extension": ".py",
   "mimetype": "text/x-python",
   "name": "python",
   "nbconvert_exporter": "python",
   "pygments_lexer": "ipython3",
   "version": "3.8.3"
  }
 },
 "nbformat": 4,
 "nbformat_minor": 4
}
